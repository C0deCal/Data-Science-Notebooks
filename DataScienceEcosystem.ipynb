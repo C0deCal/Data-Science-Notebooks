{
 "cells": [
  {
   "cell_type": "markdown",
   "id": "d65876cf-8f4f-4d1f-8cd1-45c87a7a3f50",
   "metadata": {},
   "source": [
    "# Data Science Tools and Ecosystem"
   ]
  },
  {
   "cell_type": "markdown",
   "id": "c098d247-2ed5-48a3-b582-99683f9a6540",
   "metadata": {},
   "source": [
    "In this notebook, Data Science Tools and Ecosystem are summarized."
   ]
  },
  {
   "cell_type": "markdown",
   "id": "bd752d5f-e174-44eb-b7f5-b3ea94d9be16",
   "metadata": {},
   "source": [
    "Some of the popular languages that Data Scientists use are:\n",
    "\n",
    "1. Python\n",
    "2. R\n",
    "3. SQL"
   ]
  },
  {
   "cell_type": "markdown",
   "id": "6219d7b8-caa9-45db-9123-a380008dda30",
   "metadata": {},
   "source": [
    "Some of the commonly used libraries used by Data Scientists include:\n",
    "\n",
    "1. Pandas\n",
    "2. NumPy\n",
    "3. Matplotliblib"
   ]
  },
  {
   "cell_type": "markdown",
   "id": "acb27643-1078-48ec-b305-d530b83561f8",
   "metadata": {},
   "source": [
    "| Data Science Tools |\r\n",
    "|--------------------|\r\n",
    "| Jupyter Notebook   |\r\n",
    "| RStudio            |\r\n",
    "| VS Code            |"
   ]
  },
  {
   "cell_type": "markdown",
   "id": "33c6b05a-4d35-47c2-bf18-83c0f935f250",
   "metadata": {},
   "source": [
    "### Below are a few examples of evaluating arithmetic expressions in Python."
   ]
  },
  {
   "cell_type": "code",
   "execution_count": 56,
   "id": "53ecec24-c1ed-4d59-a64d-89e0455c3604",
   "metadata": {},
   "outputs": [
    {
     "data": {
      "text/plain": [
       "17"
      ]
     },
     "execution_count": 56,
     "metadata": {},
     "output_type": "execute_result"
    }
   ],
   "source": [
    "# This is a simple arithmetic expression to multiply then add integers\n",
    "(3*4)+5"
   ]
  },
  {
   "cell_type": "code",
   "execution_count": 54,
   "id": "9b9dad81-e50b-4992-9568-ddfa5d6584e5",
   "metadata": {},
   "outputs": [
    {
     "data": {
      "text/plain": [
       "3.3333333333333335"
      ]
     },
     "execution_count": 54,
     "metadata": {},
     "output_type": "execute_result"
    }
   ],
   "source": [
    "# This will convert 200 minutes to hours by dividing by 60\n",
    "200 / 60"
   ]
  },
  {
   "cell_type": "markdown",
   "id": "5e43d446-03c8-4aaf-b2f7-a35a9ae826cc",
   "metadata": {},
   "source": [
    "**Objectives:**"
   ]
  },
  {
   "cell_type": "markdown",
   "id": "890ca8c5-5159-4050-957f-d10ccc1a9d1b",
   "metadata": {},
   "source": [
    "- R\n",
    "- SQL\n",
    "- Python"
   ]
  },
  {
   "cell_type": "markdown",
   "id": "8690bd72-da19-4d34-9daa-b5b255b086aa",
   "metadata": {},
   "source": [
    "## Author\r",
    "Calvin Chu"
   ]
  },
  {
   "cell_type": "code",
   "execution_count": null,
   "id": "4fffc096-7fd5-432e-b562-87bc2b70fe93",
   "metadata": {},
   "outputs": [],
   "source": []
  }
 ],
 "metadata": {
  "kernelspec": {
   "display_name": "Python 3 (ipykernel)",
   "language": "python",
   "name": "python3"
  },
  "language_info": {
   "codemirror_mode": {
    "name": "ipython",
    "version": 3
   },
   "file_extension": ".py",
   "mimetype": "text/x-python",
   "name": "python",
   "nbconvert_exporter": "python",
   "pygments_lexer": "ipython3",
   "version": "3.11.7"
  }
 },
 "nbformat": 4,
 "nbformat_minor": 5
}
